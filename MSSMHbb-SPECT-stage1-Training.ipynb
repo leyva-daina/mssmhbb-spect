{
 "cells": [
  {
   "cell_type": "markdown",
   "id": "c6475451",
   "metadata": {},
   "source": [
    "# MSSMHbb-SPECT stage 1: Training\n",
    "\n",
    "## Description\n",
    "This is a standalone plugin to evaluate classification techniques for the MSSM Hbb analysis of the DESY CMS Higgs -> bb group. \n",
    "In this stage the trainings will be performed. \n",
    "\n",
    "This code is independent of CMSSW, however, running in the CMSSW area of the main analysis framework is recommended.\n",
    "\n",
    "\n",
    "## Installation\n",
    "Download the repository . It is recommended to clone it in the analysis-test area\n",
    "\n",
    "\n",
    "## Inputs\n",
    "This code reads the output of the MSSM  Hbb analysis, with the variables relevant for the training saved in a flat ntuple, ant their corresponding weight saved in a branch in an event-basis.\n"
   ]
  },
  {
   "cell_type": "code",
   "execution_count": 2,
   "id": "a5a1c0d1",
   "metadata": {},
   "outputs": [
    {
     "name": "stdout",
     "output_type": "stream",
     "text": [
      "Daina\n"
     ]
    }
   ],
   "source": [
    "import ROOT\n",
    "from ROOT import TMVA, TFile, TTree, TCut, TCanvas, TString\n",
    "\n",
    "print(\"Daina\")"
   ]
  },
  {
   "cell_type": "code",
   "execution_count": null,
   "id": "0798d925",
   "metadata": {},
   "outputs": [],
   "source": []
  },
  {
   "cell_type": "code",
   "execution_count": null,
   "id": "d298c230",
   "metadata": {},
   "outputs": [],
   "source": []
  }
 ],
 "metadata": {
  "kernelspec": {
   "display_name": "Python 3",
   "language": "python",
   "name": "python3"
  },
  "language_info": {
   "codemirror_mode": {
    "name": "ipython",
    "version": 3
   },
   "file_extension": ".py",
   "mimetype": "text/x-python",
   "name": "python",
   "nbconvert_exporter": "python",
   "pygments_lexer": "ipython3",
   "version": "3.6.8"
  }
 },
 "nbformat": 4,
 "nbformat_minor": 5
}
