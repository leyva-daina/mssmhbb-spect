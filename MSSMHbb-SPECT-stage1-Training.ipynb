{
 "cells": [
  {
   "cell_type": "markdown",
   "id": "c6475451",
   "metadata": {},
   "source": [
    "# MSSMHbb-SPECT stage 1: Training\n",
    "\n",
    "## Description\n",
    "This is a standalone plugin to evaluate classification techniques for the MSSM Hbb analysis of the DESY CMS Higgs -> bb group. \n",
    "In this stage the trainings will be performed. \n",
    "\n",
    "This code is independent of CMSSW, however, running in the CMSSW area of the main analysis framework is recommended.\n",
    "\n",
    "\n",
    "## Installation\n",
    "Download the repository . It is recommended to clone it in the analysis-test area\n",
    "\n",
    "\n",
    "## Inputs\n",
    "This code reads the output of the MSSM  Hbb analysis, with the variables relevant for the training saved in a flat ntuple, ant their corresponding weight saved in a branch in an event-basis.\n"
   ]
  },
  {
   "cell_type": "code",
   "execution_count": 22,
   "id": "a5a1c0d1",
   "metadata": {},
   "outputs": [],
   "source": [
    "import ROOT\n",
    "from ROOT import TMVA, TFile, TTree, TCut, TCanvas, TString\n"
   ]
  },
  {
   "cell_type": "code",
   "execution_count": 23,
   "id": "0798d925",
   "metadata": {},
   "outputs": [],
   "source": [
    "\n",
    "#load the input files and trees\n",
    "signalFile = TFile.Open(\"rootfiles_signal/mssmHbb_2018_FH_600_sr.root\")\n",
    "backgroundFileQCDbEnriched1 = TFile.Open(\"rootfiles_QCD/mssmHbb_2018_FH_QCD_bEnriched_HT100to200_sr.root\")\n",
    "backgroundFileQCDbEnriched2 = TFile.Open(\"rootfiles_QCD/mssmHbb_2018_FH_QCD_bEnriched_HT200to300_sr.root\")\n",
    "backgroundFileQCDbEnriched3 = TFile.Open(\"rootfiles_QCD/mssmHbb_2018_FH_QCD_bEnriched_HT300to500_sr.root\")\n",
    "backgroundFileQCDbEnriched4 = TFile.Open(\"rootfiles_QCD/mssmHbb_2018_FH_QCD_bEnriched_HT500to700_sr.root\")\n",
    "backgroundFileQCDbEnriched5 = TFile.Open(\"rootfiles_QCD/mssmHbb_2018_FH_QCD_bEnriched_HT700to1000_sr.root\")\n",
    "backgroundFileQCDbEnriched6 = TFile.Open(\"rootfiles_QCD/mssmHbb_2018_FH_QCD_bEnriched_HT1000to1500_sr.root\")\n",
    "backgroundFileQCDbEnriched7 = TFile.Open(\"rootfiles_QCD/mssmHbb_2018_FH_QCD_bEnriched_HT1500to2000_sr.root\")\n",
    "backgroundFileQCDbEnriched8 = TFile.Open(\"rootfiles_QCD/mssmHbb_2018_FH_QCD_bEnriched_HT2000toInf_sr.root\")\n",
    "\n",
    "backgroundFileQCDbGenFilter1 = TFile.Open(\"rootfiles_QCD/mssmHbb_2018_FH_QCD_HT100to200_BGenFilter_sr.root\")\n",
    "backgroundFileQCDbGenFilter2 = TFile.Open(\"rootfiles_QCD/mssmHbb_2018_FH_QCD_HT200to300_BGenFilter_sr.root\")\n",
    "backgroundFileQCDbGenFilter3 = TFile.Open(\"rootfiles_QCD/mssmHbb_2018_FH_QCD_HT300to500_BGenFilter_sr.root\")\n",
    "backgroundFileQCDbGenFilter4 = TFile.Open(\"rootfiles_QCD/mssmHbb_2018_FH_QCD_HT500to700_BGenFilter_sr.root\")\n",
    "backgroundFileQCDbGenFilter5 = TFile.Open(\"rootfiles_QCD/mssmHbb_2018_FH_QCD_HT700to1000_BGenFilter_sr.root\")\n",
    "backgroundFileQCDbGenFilter6 = TFile.Open(\"rootfiles_QCD/mssmHbb_2018_FH_QCD_HT1000to1500_BGenFilter_sr.root\")\n",
    "backgroundFileQCDbGenFilter7 = TFile.Open(\"rootfiles_QCD/mssmHbb_2018_FH_QCD_HT1500to2000_BGenFilter_sr.root\")\n",
    "backgroundFileQCDbGenFilter8 = TFile.Open(\"rootfiles_QCD/mssmHbb_2018_FH_QCD_HT2000toInf_BGenFilter_sr.root\")\n",
    "\n",
    "#output file\n",
    "outputFile = TFile.Open(\"TMVAOutput.root\", \"RECREATE\")"
   ]
  },
  {
   "cell_type": "code",
   "execution_count": 35,
   "id": "d298c230",
   "metadata": {},
   "outputs": [],
   "source": [
    "# Create a TMVA factory\n",
    "factory = TMVA.Factory(\"TMVA_Classification\", outputFile, \"AnalysisType=Classification\")\n",
    "\n",
    "# Define the DataLoader and set up the variables\n",
    "loader = TMVA.DataLoader(\"dataset\")\n",
    "\n",
    "# Get the signal and background TTrees\n",
    "signalTree = signalFile.Get(\"mssmhbb_MVA\")\n",
    "backgroundTreeQCDbEnriched1 = backgroundFileQCDbEnriched1.Get(\"mssmhbb_MVA\")\n",
    "backgroundTreeQCDbEnriched2 = backgroundFileQCDbEnriched2.Get(\"mssmhbb_MVA\")\n",
    "backgroundTreeQCDbEnriched3 = backgroundFileQCDbEnriched3.Get(\"mssmhbb_MVA\")\n",
    "backgroundTreeQCDbEnriched4 = backgroundFileQCDbEnriched4.Get(\"mssmhbb_MVA\")\n",
    "backgroundTreeQCDbEnriched5 = backgroundFileQCDbEnriched5.Get(\"mssmhbb_MVA\")\n",
    "backgroundTreeQCDbEnriched6 = backgroundFileQCDbEnriched6.Get(\"mssmhbb_MVA\")\n",
    "backgroundTreeQCDbEnriched7 = backgroundFileQCDbEnriched7.Get(\"mssmhbb_MVA\")\n",
    "backgroundTreeQCDbEnriched8 = backgroundFileQCDbEnriched8.Get(\"mssmhbb_MVA\")\n",
    "backgroundTreeQCDbGenFilter1 = backgroundFileQCDbGenFilter1.Get(\"mssmhbb_MVA\")\n",
    "backgroundTreeQCDbGenFilter2 = backgroundFileQCDbGenFilter2.Get(\"mssmhbb_MVA\")\n",
    "backgroundTreeQCDbGenFilter3 = backgroundFileQCDbGenFilter3.Get(\"mssmhbb_MVA\")\n",
    "backgroundTreeQCDbGenFilter4 = backgroundFileQCDbGenFilter4.Get(\"mssmhbb_MVA\")\n",
    "backgroundTreeQCDbGenFilter5 = backgroundFileQCDbGenFilter5.Get(\"mssmhbb_MVA\")\n",
    "backgroundTreeQCDbGenFilter6 = backgroundFileQCDbGenFilter6.Get(\"mssmhbb_MVA\")\n",
    "backgroundTreeQCDbGenFilter7 = backgroundFileQCDbGenFilter7.Get(\"mssmhbb_MVA\")\n",
    "backgroundTreeQCDbGenFilter8 = backgroundFileQCDbGenFilter8.Get(\"mssmhbb_MVA\")\n",
    "\n",
    "\n",
    "# Define the input variables based on your feature names and data types\n",
    "input_variables = {\n",
    "    \"dr_jets12\": \"F\",\n",
    "    \"dr_jets13\": \"F\",\n",
    "    \"dr_jets23\": \"F\",\n",
    "    \"eta_jet1\": \"F\",\n",
    "    \"eta_jet2\": \"F\",\n",
    "    \"eta_jet3\": \"F\",\n",
    "    \"deta_jet12\": \"F\",\n",
    "    \"deta_jet13\": \"F\",\n",
    "    \"deta_jet23\": \"F\",\n",
    "    \"phi_jet1\": \"F\",\n",
    "    \"phi_jet2\": \"F\",\n",
    "    \"phi_jet3\": \"F\",\n",
    "    \"dphi_jet12\": \"F\",\n",
    "    \"dphi_jet13\": \"F\",\n",
    "    \"dphi_jet23\": \"F\",\n",
    "    \"pT_jet1\": \"F\",\n",
    "    \"pT_jet2\": \"F\",\n",
    "    \"pT_jet3\": \"F\",\n",
    "    \"dpT_jet12\": \"F\",\n",
    "    \"dpT_jet13\": \"F\",\n",
    "    \"dpT_jet23\": \"F\",\n",
    "    \"pTratio_jet12\": \"F\",\n",
    "    \"pTratio_jet13\": \"F\",\n",
    "    \"pTratio_jet23\": \"F\",\n",
    "    \"pTimbalance_jet12\": \"F\",\n",
    "    \"pTimbalance_jet13\": \"F\",\n",
    "    \"pTimbalance_jet23\": \"F\",\n",
    "    \"qglikelyhood_jet1\": \"F\",\n",
    "    \"qglikelyhood_jet2\": \"F\",\n",
    "    \"qglikelyhood_jet3\": \"F\"\n",
    "}\n",
    "\n",
    "# Add the input variables to the DataLoader\n",
    "for var_name, var_type in input_variables.items():\n",
    "    loader.AddVariable(var_name, var_type)"
   ]
  },
  {
   "cell_type": "code",
   "execution_count": null,
   "metadata": {},
   "outputs": [],
   "source": []
  },
  {
   "cell_type": "code",
   "execution_count": null,
   "id": "a955b96e",
   "metadata": {},
   "outputs": [],
   "source": [
    "\n",
    "\n",
    "# load the signal and background trees\n",
    "loader.AddSignalTree(signalTree, 1.0)\n",
    "#loader.AddBackgroundTree(backgroundTreeQCDbEnriched1, 1.0)\n",
    "loader.AddBackgroundTree(backgroundTreeQCDbEnriched2, 1.0)\n",
    "loader.AddBackgroundTree(backgroundTreeQCDbEnriched3, 1.0)\n",
    "loader.AddBackgroundTree(backgroundTreeQCDbEnriched4, 1.0)\n",
    "loader.AddBackgroundTree(backgroundTreeQCDbEnriched5, 1.0)\n",
    "loader.AddBackgroundTree(backgroundTreeQCDbEnriched6, 1.0)\n",
    "loader.AddBackgroundTree(backgroundTreeQCDbEnriched7, 1.0)\n",
    "loader.AddBackgroundTree(backgroundTreeQCDbEnriched8, 1.0)\n",
    "#loader.AddBackgroundTree(backgroundTreeQCDbGenFilter1, 1.0)\n",
    "#loader.AddBackgroundTree(backgroundTreeQCDbGenFilter2, 1.0)\n",
    "loader.AddBackgroundTree(backgroundTreeQCDbGenFilter3, 1.0)\n",
    "loader.AddBackgroundTree(backgroundTreeQCDbGenFilter4, 1.0)\n",
    "loader.AddBackgroundTree(backgroundTreeQCDbGenFilter5, 1.0)\n",
    "loader.AddBackgroundTree(backgroundTreeQCDbGenFilter6, 1.0)\n",
    "loader.AddBackgroundTree(backgroundTreeQCDbGenFilter7, 1.0)\n",
    "loader.AddBackgroundTree(backgroundTreeQCDbGenFilter8, 1.0)\n",
    "\n",
    "# Define the signal and background cuts if needed\n",
    "# factory.PrepareTrainingAndTestTree(signalCut, backgroundCut, \"nTrain_Signal=0:nTrain_Background=0:SplitMode=Random:NormMode=NumEvents:!V\")\n",
    "\n",
    "# Define the method (e.g., BDT) and add it to the factory ----> factory.BookMethod(loader, methodType, methodTitle, options)\n",
    "factory.BookMethod(loader, TMVA.Types.kBDT, \"BDT\", \"NTrees=1000:MaxDepth=3\")"
   ]
  },
  {
   "cell_type": "code",
   "execution_count": 26,
   "id": "4ba09dff",
   "metadata": {},
   "outputs": [
    {
     "name": "stdout",
     "output_type": "stream",
     "text": [
      "<HEADER> Factory                  : Train all methods\n",
      "                         : ...nothing found to train\n",
      "<HEADER> Factory                  : Test all methods\n",
      "                         : ...nothing found to test\n",
      "<HEADER> Factory                  : Evaluate all methods\n",
      "                         : ...nothing found to evaluate\n"
     ]
    }
   ],
   "source": [
    "# Train and test the classifier\n",
    "factory.TrainAllMethods()\n",
    "factory.TestAllMethods()\n",
    "factory.EvaluateAllMethods()"
   ]
  },
  {
   "cell_type": "code",
   "execution_count": 27,
   "id": "d425e016",
   "metadata": {},
   "outputs": [
    {
     "ename": "AttributeError",
     "evalue": "'Factory' object has no attribute 'Close'",
     "output_type": "error",
     "traceback": [
      "\u001b[0;31m---------------------------------------------------------------------------\u001b[0m",
      "\u001b[0;31mAttributeError\u001b[0m                            Traceback (most recent call last)",
      "\u001b[0;32m<ipython-input-27-b6b10c6b2272>\u001b[0m in \u001b[0;36m<module>\u001b[0;34m\u001b[0m\n\u001b[1;32m      1\u001b[0m \u001b[0;31m# Save the factory and cleanup\u001b[0m\u001b[0;34m\u001b[0m\u001b[0;34m\u001b[0m\u001b[0;34m\u001b[0m\u001b[0m\n\u001b[0;32m----> 2\u001b[0;31m \u001b[0mfactory\u001b[0m\u001b[0;34m.\u001b[0m\u001b[0mClose\u001b[0m\u001b[0;34m(\u001b[0m\u001b[0;34m)\u001b[0m\u001b[0;34m\u001b[0m\u001b[0;34m\u001b[0m\u001b[0m\n\u001b[0m\u001b[1;32m      3\u001b[0m \u001b[0moutputFile\u001b[0m\u001b[0;34m.\u001b[0m\u001b[0mClose\u001b[0m\u001b[0;34m(\u001b[0m\u001b[0;34m)\u001b[0m\u001b[0;34m\u001b[0m\u001b[0;34m\u001b[0m\u001b[0m\n\u001b[1;32m      4\u001b[0m \u001b[0msignalFile\u001b[0m\u001b[0;34m.\u001b[0m\u001b[0mClose\u001b[0m\u001b[0;34m(\u001b[0m\u001b[0;34m)\u001b[0m\u001b[0;34m\u001b[0m\u001b[0;34m\u001b[0m\u001b[0m\n\u001b[1;32m      5\u001b[0m \u001b[0mbackgroundFile\u001b[0m\u001b[0;34m.\u001b[0m\u001b[0mClose\u001b[0m\u001b[0;34m(\u001b[0m\u001b[0;34m)\u001b[0m\u001b[0;34m\u001b[0m\u001b[0;34m\u001b[0m\u001b[0m\n",
      "\u001b[0;31mAttributeError\u001b[0m: 'Factory' object has no attribute 'Close'"
     ]
    }
   ],
   "source": [
    "# Save the factory and cleanup\n",
    "factory.Close()\n",
    "outputFile.Close()\n",
    "signalFile.Close()\n",
    "backgroundFileQCDbEnriched1.Close()\n",
    "backgroundFileQCDbEnriched2.Close()\n",
    "backgroundFileQCDbEnriched3.Close()\n",
    "backgroundFileQCDbEnriched4.Close()\n",
    "backgroundFileQCDbEnriched5.Close()\n",
    "backgroundFileQCDbEnriched6.Close()\n",
    "backgroundFileQCDbEnriched7.Close()\n",
    "backgroundFileQCDbEnriched8.Close()\n",
    "backgroundFileQCDbGenFilter1.Close()\n",
    "backgroundFileQCDbGenFilter2.Close()\n",
    "backgroundFileQCDbGenFilter3.Close()\n",
    "backgroundFileQCDbGenFilter4.Close()\n",
    "backgroundFileQCDbGenFilter5.Close()\n",
    "backgroundFileQCDbGenFilter6.Close()\n",
    "backgroundFileQCDbGenFilter7.Close()\n",
    "backgroundFileQCDbGenFilter8.Close()"
   ]
  }
 ],
 "metadata": {
  "kernelspec": {
   "display_name": "Python 3",
   "language": "python",
   "name": "python3"
  },
  "language_info": {
   "codemirror_mode": {
    "name": "ipython",
    "version": 3
   },
   "file_extension": ".py",
   "mimetype": "text/x-python",
   "name": "python",
   "nbconvert_exporter": "python",
   "pygments_lexer": "ipython3",
   "version": "3.6.8"
  }
 },
 "nbformat": 4,
 "nbformat_minor": 5
}
